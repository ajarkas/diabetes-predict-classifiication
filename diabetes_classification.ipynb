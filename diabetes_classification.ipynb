{
  "nbformat": 4,
  "nbformat_minor": 0,
  "metadata": {
    "colab": {
      "provenance": []
    },
    "kernelspec": {
      "name": "python3",
      "display_name": "Python 3"
    },
    "language_info": {
      "name": "python"
    }
  },
  "cells": [
    {
      "cell_type": "code",
      "execution_count": 1,
      "metadata": {
        "id": "s9Fr98LY6WFk"
      },
      "outputs": [],
      "source": [
        "import pandas as pd\n",
        "from sklearn.neighbors import KNeighborsClassifier\n",
        "from sklearn.model_selection import train_test_split\n",
        "from sklearn.preprocessing import StandardScaler\n",
        "from sklearn.metrics import accuracy_score\n",
        "import numpy as np\n",
        "import matplotlib.pyplot as plt"
      ]
    },
    {
      "cell_type": "code",
      "source": [
        "#Pima Diabetes Dataset\n",
        "df = pd.read_csv('diabetes.csv')\n",
        "df.head()"
      ],
      "metadata": {
        "colab": {
          "base_uri": "https://localhost:8080/",
          "height": 206
        },
        "id": "qgRTx8ui6W7p",
        "outputId": "efbc4da2-7a11-4d4e-d298-755a628cfcac"
      },
      "execution_count": 2,
      "outputs": [
        {
          "output_type": "execute_result",
          "data": {
            "text/plain": [
              "   Pregnancies  Glucose  BloodPressure  SkinThickness  Insulin   BMI  \\\n",
              "0            6      148             72             35        0  33.6   \n",
              "1            1       85             66             29        0  26.6   \n",
              "2            8      183             64              0        0  23.3   \n",
              "3            1       89             66             23       94  28.1   \n",
              "4            0      137             40             35      168  43.1   \n",
              "\n",
              "   DiabetesPedigreeFunction  Age  Outcome  \n",
              "0                     0.627   50        1  \n",
              "1                     0.351   31        0  \n",
              "2                     0.672   32        1  \n",
              "3                     0.167   21        0  \n",
              "4                     2.288   33        1  "
            ],
            "text/html": [
              "\n",
              "  <div id=\"df-5ec17846-6c2c-49c2-ad7a-42d0a276eed2\" class=\"colab-df-container\">\n",
              "    <div>\n",
              "<style scoped>\n",
              "    .dataframe tbody tr th:only-of-type {\n",
              "        vertical-align: middle;\n",
              "    }\n",
              "\n",
              "    .dataframe tbody tr th {\n",
              "        vertical-align: top;\n",
              "    }\n",
              "\n",
              "    .dataframe thead th {\n",
              "        text-align: right;\n",
              "    }\n",
              "</style>\n",
              "<table border=\"1\" class=\"dataframe\">\n",
              "  <thead>\n",
              "    <tr style=\"text-align: right;\">\n",
              "      <th></th>\n",
              "      <th>Pregnancies</th>\n",
              "      <th>Glucose</th>\n",
              "      <th>BloodPressure</th>\n",
              "      <th>SkinThickness</th>\n",
              "      <th>Insulin</th>\n",
              "      <th>BMI</th>\n",
              "      <th>DiabetesPedigreeFunction</th>\n",
              "      <th>Age</th>\n",
              "      <th>Outcome</th>\n",
              "    </tr>\n",
              "  </thead>\n",
              "  <tbody>\n",
              "    <tr>\n",
              "      <th>0</th>\n",
              "      <td>6</td>\n",
              "      <td>148</td>\n",
              "      <td>72</td>\n",
              "      <td>35</td>\n",
              "      <td>0</td>\n",
              "      <td>33.6</td>\n",
              "      <td>0.627</td>\n",
              "      <td>50</td>\n",
              "      <td>1</td>\n",
              "    </tr>\n",
              "    <tr>\n",
              "      <th>1</th>\n",
              "      <td>1</td>\n",
              "      <td>85</td>\n",
              "      <td>66</td>\n",
              "      <td>29</td>\n",
              "      <td>0</td>\n",
              "      <td>26.6</td>\n",
              "      <td>0.351</td>\n",
              "      <td>31</td>\n",
              "      <td>0</td>\n",
              "    </tr>\n",
              "    <tr>\n",
              "      <th>2</th>\n",
              "      <td>8</td>\n",
              "      <td>183</td>\n",
              "      <td>64</td>\n",
              "      <td>0</td>\n",
              "      <td>0</td>\n",
              "      <td>23.3</td>\n",
              "      <td>0.672</td>\n",
              "      <td>32</td>\n",
              "      <td>1</td>\n",
              "    </tr>\n",
              "    <tr>\n",
              "      <th>3</th>\n",
              "      <td>1</td>\n",
              "      <td>89</td>\n",
              "      <td>66</td>\n",
              "      <td>23</td>\n",
              "      <td>94</td>\n",
              "      <td>28.1</td>\n",
              "      <td>0.167</td>\n",
              "      <td>21</td>\n",
              "      <td>0</td>\n",
              "    </tr>\n",
              "    <tr>\n",
              "      <th>4</th>\n",
              "      <td>0</td>\n",
              "      <td>137</td>\n",
              "      <td>40</td>\n",
              "      <td>35</td>\n",
              "      <td>168</td>\n",
              "      <td>43.1</td>\n",
              "      <td>2.288</td>\n",
              "      <td>33</td>\n",
              "      <td>1</td>\n",
              "    </tr>\n",
              "  </tbody>\n",
              "</table>\n",
              "</div>\n",
              "    <div class=\"colab-df-buttons\">\n",
              "\n",
              "  <div class=\"colab-df-container\">\n",
              "    <button class=\"colab-df-convert\" onclick=\"convertToInteractive('df-5ec17846-6c2c-49c2-ad7a-42d0a276eed2')\"\n",
              "            title=\"Convert this dataframe to an interactive table.\"\n",
              "            style=\"display:none;\">\n",
              "\n",
              "  <svg xmlns=\"http://www.w3.org/2000/svg\" height=\"24px\" viewBox=\"0 -960 960 960\">\n",
              "    <path d=\"M120-120v-720h720v720H120Zm60-500h600v-160H180v160Zm220 220h160v-160H400v160Zm0 220h160v-160H400v160ZM180-400h160v-160H180v160Zm440 0h160v-160H620v160ZM180-180h160v-160H180v160Zm440 0h160v-160H620v160Z\"/>\n",
              "  </svg>\n",
              "    </button>\n",
              "\n",
              "  <style>\n",
              "    .colab-df-container {\n",
              "      display:flex;\n",
              "      gap: 12px;\n",
              "    }\n",
              "\n",
              "    .colab-df-convert {\n",
              "      background-color: #E8F0FE;\n",
              "      border: none;\n",
              "      border-radius: 50%;\n",
              "      cursor: pointer;\n",
              "      display: none;\n",
              "      fill: #1967D2;\n",
              "      height: 32px;\n",
              "      padding: 0 0 0 0;\n",
              "      width: 32px;\n",
              "    }\n",
              "\n",
              "    .colab-df-convert:hover {\n",
              "      background-color: #E2EBFA;\n",
              "      box-shadow: 0px 1px 2px rgba(60, 64, 67, 0.3), 0px 1px 3px 1px rgba(60, 64, 67, 0.15);\n",
              "      fill: #174EA6;\n",
              "    }\n",
              "\n",
              "    .colab-df-buttons div {\n",
              "      margin-bottom: 4px;\n",
              "    }\n",
              "\n",
              "    [theme=dark] .colab-df-convert {\n",
              "      background-color: #3B4455;\n",
              "      fill: #D2E3FC;\n",
              "    }\n",
              "\n",
              "    [theme=dark] .colab-df-convert:hover {\n",
              "      background-color: #434B5C;\n",
              "      box-shadow: 0px 1px 3px 1px rgba(0, 0, 0, 0.15);\n",
              "      filter: drop-shadow(0px 1px 2px rgba(0, 0, 0, 0.3));\n",
              "      fill: #FFFFFF;\n",
              "    }\n",
              "  </style>\n",
              "\n",
              "    <script>\n",
              "      const buttonEl =\n",
              "        document.querySelector('#df-5ec17846-6c2c-49c2-ad7a-42d0a276eed2 button.colab-df-convert');\n",
              "      buttonEl.style.display =\n",
              "        google.colab.kernel.accessAllowed ? 'block' : 'none';\n",
              "\n",
              "      async function convertToInteractive(key) {\n",
              "        const element = document.querySelector('#df-5ec17846-6c2c-49c2-ad7a-42d0a276eed2');\n",
              "        const dataTable =\n",
              "          await google.colab.kernel.invokeFunction('convertToInteractive',\n",
              "                                                    [key], {});\n",
              "        if (!dataTable) return;\n",
              "\n",
              "        const docLinkHtml = 'Like what you see? Visit the ' +\n",
              "          '<a target=\"_blank\" href=https://colab.research.google.com/notebooks/data_table.ipynb>data table notebook</a>'\n",
              "          + ' to learn more about interactive tables.';\n",
              "        element.innerHTML = '';\n",
              "        dataTable['output_type'] = 'display_data';\n",
              "        await google.colab.output.renderOutput(dataTable, element);\n",
              "        const docLink = document.createElement('div');\n",
              "        docLink.innerHTML = docLinkHtml;\n",
              "        element.appendChild(docLink);\n",
              "      }\n",
              "    </script>\n",
              "  </div>\n",
              "\n",
              "\n",
              "<div id=\"df-df2c2df9-528d-4349-90a7-a1328309c277\">\n",
              "  <button class=\"colab-df-quickchart\" onclick=\"quickchart('df-df2c2df9-528d-4349-90a7-a1328309c277')\"\n",
              "            title=\"Suggest charts\"\n",
              "            style=\"display:none;\">\n",
              "\n",
              "<svg xmlns=\"http://www.w3.org/2000/svg\" height=\"24px\"viewBox=\"0 0 24 24\"\n",
              "     width=\"24px\">\n",
              "    <g>\n",
              "        <path d=\"M19 3H5c-1.1 0-2 .9-2 2v14c0 1.1.9 2 2 2h14c1.1 0 2-.9 2-2V5c0-1.1-.9-2-2-2zM9 17H7v-7h2v7zm4 0h-2V7h2v10zm4 0h-2v-4h2v4z\"/>\n",
              "    </g>\n",
              "</svg>\n",
              "  </button>\n",
              "\n",
              "<style>\n",
              "  .colab-df-quickchart {\n",
              "      --bg-color: #E8F0FE;\n",
              "      --fill-color: #1967D2;\n",
              "      --hover-bg-color: #E2EBFA;\n",
              "      --hover-fill-color: #174EA6;\n",
              "      --disabled-fill-color: #AAA;\n",
              "      --disabled-bg-color: #DDD;\n",
              "  }\n",
              "\n",
              "  [theme=dark] .colab-df-quickchart {\n",
              "      --bg-color: #3B4455;\n",
              "      --fill-color: #D2E3FC;\n",
              "      --hover-bg-color: #434B5C;\n",
              "      --hover-fill-color: #FFFFFF;\n",
              "      --disabled-bg-color: #3B4455;\n",
              "      --disabled-fill-color: #666;\n",
              "  }\n",
              "\n",
              "  .colab-df-quickchart {\n",
              "    background-color: var(--bg-color);\n",
              "    border: none;\n",
              "    border-radius: 50%;\n",
              "    cursor: pointer;\n",
              "    display: none;\n",
              "    fill: var(--fill-color);\n",
              "    height: 32px;\n",
              "    padding: 0;\n",
              "    width: 32px;\n",
              "  }\n",
              "\n",
              "  .colab-df-quickchart:hover {\n",
              "    background-color: var(--hover-bg-color);\n",
              "    box-shadow: 0 1px 2px rgba(60, 64, 67, 0.3), 0 1px 3px 1px rgba(60, 64, 67, 0.15);\n",
              "    fill: var(--button-hover-fill-color);\n",
              "  }\n",
              "\n",
              "  .colab-df-quickchart-complete:disabled,\n",
              "  .colab-df-quickchart-complete:disabled:hover {\n",
              "    background-color: var(--disabled-bg-color);\n",
              "    fill: var(--disabled-fill-color);\n",
              "    box-shadow: none;\n",
              "  }\n",
              "\n",
              "  .colab-df-spinner {\n",
              "    border: 2px solid var(--fill-color);\n",
              "    border-color: transparent;\n",
              "    border-bottom-color: var(--fill-color);\n",
              "    animation:\n",
              "      spin 1s steps(1) infinite;\n",
              "  }\n",
              "\n",
              "  @keyframes spin {\n",
              "    0% {\n",
              "      border-color: transparent;\n",
              "      border-bottom-color: var(--fill-color);\n",
              "      border-left-color: var(--fill-color);\n",
              "    }\n",
              "    20% {\n",
              "      border-color: transparent;\n",
              "      border-left-color: var(--fill-color);\n",
              "      border-top-color: var(--fill-color);\n",
              "    }\n",
              "    30% {\n",
              "      border-color: transparent;\n",
              "      border-left-color: var(--fill-color);\n",
              "      border-top-color: var(--fill-color);\n",
              "      border-right-color: var(--fill-color);\n",
              "    }\n",
              "    40% {\n",
              "      border-color: transparent;\n",
              "      border-right-color: var(--fill-color);\n",
              "      border-top-color: var(--fill-color);\n",
              "    }\n",
              "    60% {\n",
              "      border-color: transparent;\n",
              "      border-right-color: var(--fill-color);\n",
              "    }\n",
              "    80% {\n",
              "      border-color: transparent;\n",
              "      border-right-color: var(--fill-color);\n",
              "      border-bottom-color: var(--fill-color);\n",
              "    }\n",
              "    90% {\n",
              "      border-color: transparent;\n",
              "      border-bottom-color: var(--fill-color);\n",
              "    }\n",
              "  }\n",
              "</style>\n",
              "\n",
              "  <script>\n",
              "    async function quickchart(key) {\n",
              "      const quickchartButtonEl =\n",
              "        document.querySelector('#' + key + ' button');\n",
              "      quickchartButtonEl.disabled = true;  // To prevent multiple clicks.\n",
              "      quickchartButtonEl.classList.add('colab-df-spinner');\n",
              "      try {\n",
              "        const charts = await google.colab.kernel.invokeFunction(\n",
              "            'suggestCharts', [key], {});\n",
              "      } catch (error) {\n",
              "        console.error('Error during call to suggestCharts:', error);\n",
              "      }\n",
              "      quickchartButtonEl.classList.remove('colab-df-spinner');\n",
              "      quickchartButtonEl.classList.add('colab-df-quickchart-complete');\n",
              "    }\n",
              "    (() => {\n",
              "      let quickchartButtonEl =\n",
              "        document.querySelector('#df-df2c2df9-528d-4349-90a7-a1328309c277 button');\n",
              "      quickchartButtonEl.style.display =\n",
              "        google.colab.kernel.accessAllowed ? 'block' : 'none';\n",
              "    })();\n",
              "  </script>\n",
              "</div>\n",
              "\n",
              "    </div>\n",
              "  </div>\n"
            ],
            "application/vnd.google.colaboratory.intrinsic+json": {
              "type": "dataframe",
              "variable_name": "df",
              "summary": "{\n  \"name\": \"df\",\n  \"rows\": 768,\n  \"fields\": [\n    {\n      \"column\": \"Pregnancies\",\n      \"properties\": {\n        \"dtype\": \"number\",\n        \"std\": 3,\n        \"min\": 0,\n        \"max\": 17,\n        \"num_unique_values\": 17,\n        \"samples\": [\n          6,\n          1,\n          3\n        ],\n        \"semantic_type\": \"\",\n        \"description\": \"\"\n      }\n    },\n    {\n      \"column\": \"Glucose\",\n      \"properties\": {\n        \"dtype\": \"number\",\n        \"std\": 31,\n        \"min\": 0,\n        \"max\": 199,\n        \"num_unique_values\": 136,\n        \"samples\": [\n          151,\n          101,\n          112\n        ],\n        \"semantic_type\": \"\",\n        \"description\": \"\"\n      }\n    },\n    {\n      \"column\": \"BloodPressure\",\n      \"properties\": {\n        \"dtype\": \"number\",\n        \"std\": 19,\n        \"min\": 0,\n        \"max\": 122,\n        \"num_unique_values\": 47,\n        \"samples\": [\n          86,\n          46,\n          85\n        ],\n        \"semantic_type\": \"\",\n        \"description\": \"\"\n      }\n    },\n    {\n      \"column\": \"SkinThickness\",\n      \"properties\": {\n        \"dtype\": \"number\",\n        \"std\": 15,\n        \"min\": 0,\n        \"max\": 99,\n        \"num_unique_values\": 51,\n        \"samples\": [\n          7,\n          12,\n          48\n        ],\n        \"semantic_type\": \"\",\n        \"description\": \"\"\n      }\n    },\n    {\n      \"column\": \"Insulin\",\n      \"properties\": {\n        \"dtype\": \"number\",\n        \"std\": 115,\n        \"min\": 0,\n        \"max\": 846,\n        \"num_unique_values\": 186,\n        \"samples\": [\n          52,\n          41,\n          183\n        ],\n        \"semantic_type\": \"\",\n        \"description\": \"\"\n      }\n    },\n    {\n      \"column\": \"BMI\",\n      \"properties\": {\n        \"dtype\": \"number\",\n        \"std\": 7.884160320375446,\n        \"min\": 0.0,\n        \"max\": 67.1,\n        \"num_unique_values\": 248,\n        \"samples\": [\n          19.9,\n          31.0,\n          38.1\n        ],\n        \"semantic_type\": \"\",\n        \"description\": \"\"\n      }\n    },\n    {\n      \"column\": \"DiabetesPedigreeFunction\",\n      \"properties\": {\n        \"dtype\": \"number\",\n        \"std\": 0.3313285950127749,\n        \"min\": 0.078,\n        \"max\": 2.42,\n        \"num_unique_values\": 517,\n        \"samples\": [\n          1.731,\n          0.426,\n          0.138\n        ],\n        \"semantic_type\": \"\",\n        \"description\": \"\"\n      }\n    },\n    {\n      \"column\": \"Age\",\n      \"properties\": {\n        \"dtype\": \"number\",\n        \"std\": 11,\n        \"min\": 21,\n        \"max\": 81,\n        \"num_unique_values\": 52,\n        \"samples\": [\n          60,\n          47,\n          72\n        ],\n        \"semantic_type\": \"\",\n        \"description\": \"\"\n      }\n    },\n    {\n      \"column\": \"Outcome\",\n      \"properties\": {\n        \"dtype\": \"number\",\n        \"std\": 0,\n        \"min\": 0,\n        \"max\": 1,\n        \"num_unique_values\": 2,\n        \"samples\": [\n          0,\n          1\n        ],\n        \"semantic_type\": \"\",\n        \"description\": \"\"\n      }\n    }\n  ]\n}"
            }
          },
          "metadata": {},
          "execution_count": 2
        }
      ]
    },
    {
      "cell_type": "code",
      "source": [
        "#Initialize X matrix, y targets. Train test split + Scaling X matricies\n",
        "X = df.iloc[:,:-1]\n",
        "y = df.iloc[:,-1]\n",
        "\n",
        "X_train, X_test, y_train, y_test = train_test_split(X, y, test_size=0.2, random_state=42)\n",
        "\n",
        "scaler = StandardScaler()\n",
        "X_train_scaled = scaler.fit_transform(X_train)\n",
        "X_test_scaled = scaler.transform(X_test)"
      ],
      "metadata": {
        "id": "MvQa9Jwx6b3U"
      },
      "execution_count": 3,
      "outputs": []
    },
    {
      "cell_type": "code",
      "source": [
        "#KNN\n",
        "\n",
        "train_results = []\n",
        "test_results = []\n",
        "for k in range(0, 300, 5):\n",
        "  if k == 0:\n",
        "    continue\n",
        "  # Initializing and fitting the KNN classifier\n",
        "  knn = KNeighborsClassifier(n_neighbors=k)\n",
        "  knn.fit(X_train_scaled, y_train)\n",
        "\n",
        "  # Making predictions\n",
        "  train_y_pred = knn.predict(X_train_scaled)\n",
        "  test_y_pred = knn.predict(X_test_scaled)\n",
        "\n",
        "  # Calculating the number of correct predictions\n",
        "  test_error = 1 - np.mean(test_y_pred == y_test)\n",
        "  test_results.append((k, test_error))\n",
        "\n",
        "  train_error = 1 - np.mean(train_y_pred == y_train)\n",
        "  train_results.append((k, train_error))\n",
        "  print((k, np.round(train_error, 4), np.round(test_error, 4)))"
      ],
      "metadata": {
        "id": "zQfPgisb6lqE",
        "colab": {
          "base_uri": "https://localhost:8080/"
        },
        "outputId": "e32e7909-b1a8-4eec-bc79-b821687cf011"
      },
      "execution_count": 38,
      "outputs": [
        {
          "output_type": "stream",
          "name": "stdout",
          "text": [
            "(5, 0.1759, 0.3052)\n",
            "(10, 0.2101, 0.3117)\n",
            "(15, 0.2085, 0.2792)\n",
            "(20, 0.2313, 0.2403)\n",
            "(25, 0.2215, 0.2597)\n",
            "(30, 0.2296, 0.2468)\n",
            "(35, 0.2215, 0.2468)\n",
            "(40, 0.2362, 0.2403)\n",
            "(45, 0.2394, 0.2403)\n",
            "(50, 0.2362, 0.2338)\n",
            "(55, 0.2443, 0.2403)\n",
            "(60, 0.2492, 0.2403)\n",
            "(65, 0.2524, 0.2403)\n",
            "(70, 0.2622, 0.2338)\n",
            "(75, 0.2557, 0.2338)\n",
            "(80, 0.259, 0.2468)\n",
            "(85, 0.2606, 0.2468)\n",
            "(90, 0.2671, 0.2208)\n",
            "(95, 0.2638, 0.2208)\n",
            "(100, 0.2671, 0.2273)\n",
            "(105, 0.2671, 0.2338)\n",
            "(110, 0.2655, 0.2273)\n",
            "(115, 0.2736, 0.2338)\n",
            "(120, 0.2769, 0.2597)\n",
            "(125, 0.2818, 0.2468)\n",
            "(130, 0.2818, 0.2727)\n",
            "(135, 0.2801, 0.2662)\n",
            "(140, 0.2818, 0.2857)\n",
            "(145, 0.2834, 0.2987)\n",
            "(150, 0.2883, 0.2922)\n",
            "(155, 0.2866, 0.2987)\n",
            "(160, 0.2899, 0.3052)\n",
            "(165, 0.2948, 0.2987)\n",
            "(170, 0.3046, 0.2987)\n",
            "(175, 0.298, 0.2987)\n",
            "(180, 0.3029, 0.2987)\n",
            "(185, 0.3046, 0.2922)\n",
            "(190, 0.3062, 0.3052)\n",
            "(195, 0.3029, 0.2987)\n",
            "(200, 0.3062, 0.2987)\n",
            "(205, 0.3062, 0.2987)\n",
            "(210, 0.3143, 0.2987)\n",
            "(215, 0.316, 0.2987)\n",
            "(220, 0.3192, 0.2987)\n",
            "(225, 0.3192, 0.3182)\n",
            "(230, 0.3192, 0.3377)\n",
            "(235, 0.3192, 0.3377)\n",
            "(240, 0.3225, 0.3442)\n",
            "(245, 0.3225, 0.3442)\n",
            "(250, 0.3225, 0.3442)\n",
            "(255, 0.3241, 0.3442)\n",
            "(260, 0.3274, 0.3506)\n",
            "(265, 0.3257, 0.3506)\n",
            "(270, 0.3274, 0.3636)\n",
            "(275, 0.329, 0.3636)\n",
            "(280, 0.3339, 0.3571)\n",
            "(285, 0.3355, 0.3571)\n",
            "(290, 0.3355, 0.3636)\n",
            "(295, 0.3355, 0.3506)\n"
          ]
        }
      ]
    },
    {
      "cell_type": "code",
      "source": [
        "plt.plot([i[0] for i in test_results], [i[1] for i in test_results], color='blue', marker='o',\n",
        "         markerfacecolor='red', markersize=5)\n",
        "\n",
        "plt.plot([i[0] for i in train_results], [i[1] for i in train_results], color='orange')\n",
        "\n",
        "plt.xlabel('k')\n",
        "plt.ylabel('Error')\n",
        "plt.title('Diabetes: Error vs k value')\n",
        "plt.legend(['Test Error', 'Train Error'])\n",
        "plt.grid(True)\n",
        "plt.show()"
      ],
      "metadata": {
        "id": "f9JYyfp16o93",
        "colab": {
          "base_uri": "https://localhost:8080/",
          "height": 472
        },
        "outputId": "b97b3c7f-ecac-47e4-fc62-655b77bf617f"
      },
      "execution_count": 39,
      "outputs": [
        {
          "output_type": "display_data",
          "data": {
            "text/plain": [
              "<Figure size 640x480 with 1 Axes>"
            ],
            "image/png": "[encoded data removed]"
          },
          "metadata": {}
        }
      ]
    },
    {
      "cell_type": "code",
      "source": [
        "#top 3 k values\n",
        "optimal_k = sorted(test_results, key=lambda x: x[1])[:3]\n",
        "\n",
        "optimal_k"
      ],
      "metadata": {
        "colab": {
          "base_uri": "https://localhost:8080/"
        },
        "id": "Jcdp0Ltf64mY",
        "outputId": "63bcb3cb-69b7-4a21-883b-7b16316383fa"
      },
      "execution_count": 40,
      "outputs": [
        {
          "output_type": "execute_result",
          "data": {
            "text/plain": [
              "[(90, 0.22077922077922074),\n",
              " (95, 0.22077922077922074),\n",
              " (100, 0.2272727272727273)]"
            ]
          },
          "metadata": {},
          "execution_count": 40
        }
      ]
    },
    {
      "cell_type": "code",
      "source": [],
      "metadata": {
        "id": "Us2W66Ln7Mhi"
      },
      "execution_count": 8,
      "outputs": []
    },
    {
      "cell_type": "code",
      "source": [
        "#SVM\n",
        "\n",
        "from sklearn.svm import SVC\n",
        "from sklearn.metrics import accuracy_score\n",
        "\n",
        "test_results = []\n",
        "train_results = []\n",
        "# SVM with 1 (Linear), 2-7 Polynomial Kernelts\n",
        "for poly in range (1, 8):\n",
        "  svm_poly = SVC(kernel='poly', degree=poly)\n",
        "  svm_poly.fit(X_train_scaled, y_train)\n",
        "  test_poly_y_pred = svm_poly.predict(X_test_scaled)\n",
        "  test_results.append((poly, 1-accuracy_score(y_test, test_poly_y_pred)))\n",
        "\n",
        "  train_poly_y_pred = svm_poly.predict(X_train_scaled)\n",
        "  train_results.append((poly, 1-accuracy_score(y_train, train_poly_y_pred)))\n",
        "\n",
        "  if poly == 1:\n",
        "    print('Linear Kernel Test Loss:', 1-np.mean(test_poly_y_pred == y_test))\n",
        "  else:\n",
        "    print(str(poly)+'-polynomial Kernel Test Loss:', 1-np.mean(test_poly_y_pred == y_test))\n",
        "\n",
        "#SVM with RBF kernel\n",
        "svm_rbf = SVC(kernel='rbf')\n",
        "svm_rbf.fit(X_train_scaled, y_train)\n",
        "rbf_y_pred = svm_rbf.predict(X_test_scaled)\n",
        "print('RBF Kernel Test Loss:', 1-np.mean(rbf_y_pred == y_test))\n",
        "test_results.append((8, 1-np.mean(rbf_y_pred == y_test)))\n",
        "train_results.append((8, 1-np.mean(svm_rbf.predict(X_train_scaled) == y_train)))\n",
        "\n",
        "\n",
        "# top 3 kernel performers\n",
        "svm_test_results = test_results.copy()\n",
        "svm_test_results[0] = ('Linear', svm_test_results[0][1])\n",
        "svm_test_results[7] = ('RBF', svm_test_results[7][1])\n",
        "print('---------------------')\n",
        "print('TOP 3 Optimal LOSS')\n",
        "sorted(svm_test_results, key=lambda x: x[1])[:3]"
      ],
      "metadata": {
        "colab": {
          "base_uri": "https://localhost:8080/"
        },
        "id": "eHRC7lju7QuJ",
        "outputId": "d934b3cc-0932-438a-e4fb-bf38bdb29392"
      },
      "execution_count": 9,
      "outputs": [
        {
          "output_type": "stream",
          "name": "stdout",
          "text": [
            "Linear Kernel Test Loss: 0.23376623376623373\n",
            "2-polynomial Kernel Test Loss: 0.30519480519480524\n",
            "3-polynomial Kernel Test Loss: 0.2532467532467533\n",
            "4-polynomial Kernel Test Loss: 0.27922077922077926\n",
            "5-polynomial Kernel Test Loss: 0.2727272727272727\n",
            "6-polynomial Kernel Test Loss: 0.2727272727272727\n",
            "7-polynomial Kernel Test Loss: 0.27922077922077926\n",
            "RBF Kernel Test Loss: 0.26623376623376627\n",
            "---------------------\n",
            "TOP 3 Optimal LOSS\n"
          ]
        },
        {
          "output_type": "execute_result",
          "data": {
            "text/plain": [
              "[('Linear', 0.23376623376623373),\n",
              " (3, 0.2532467532467533),\n",
              " ('RBF', 0.26623376623376627)]"
            ]
          },
          "metadata": {},
          "execution_count": 9
        }
      ]
    },
    {
      "cell_type": "code",
      "source": [
        "#Transform x back to be numerical for plotting\n",
        "test_results[0] = (1, test_results[0][1])\n",
        "test_results[7] = (8, test_results[7][1])"
      ],
      "metadata": {
        "id": "ORX9n0iVHQHn"
      },
      "execution_count": 19,
      "outputs": []
    },
    {
      "cell_type": "code",
      "source": [
        "import matplotlib.pyplot as plt\n",
        "\n",
        "test_poly_x = [x[0] for x in test_results]\n",
        "test_poly_y = [x[1] for x in test_results]\n",
        "\n",
        "\n",
        "train_poly_x = [x[0] for x in train_results]\n",
        "train_poly_y = [x[1] for x in train_results]\n",
        "\n",
        "#colors = ['seagreen' if x == 1 else 'steelblue' if 2 <= x <= 7 else 'salmon' for x in test_poly_x]\n",
        "\n",
        "plt.bar(test_poly_x, test_poly_y, color='steelblue', alpha= 0.75)\n",
        "plt.bar(train_poly_x, train_poly_y, color='salmon', alpha= 0.75)\n",
        "\n",
        "\n",
        "\n",
        "plt.xlabel('Kernel Polynomial Degree')\n",
        "plt.ylabel('Error')\n",
        "plt.title('Diabetes: Error vs Kernel Polynomial Degree')\n",
        "plt.grid(True)\n",
        "plt.legend(['Test Error', 'Train Error'])\n",
        "plt.xticks(test_poly_x, [f'1 (Linear)' if x == 1 else f'RBF' if x == 8 else str(x) for x in test_poly_x])\n",
        "\n",
        "plt.ylim(0.15, 0.35)\n",
        "\n",
        "plt.show()\n"
      ],
      "metadata": {
        "id": "aApGFyWk7nn9",
        "colab": {
          "base_uri": "https://localhost:8080/",
          "height": 472
        },
        "outputId": "21bf8c4b-bed1-47e1-9481-2d9a80d39e4c"
      },
      "execution_count": 21,
      "outputs": [
        {
          "output_type": "display_data",
          "data": {
            "text/plain": [
              "<Figure size 640x480 with 1 Axes>"
            ],
            "image/png": "[encoded data removed]"
          },
          "metadata": {}
        }
      ]
    },
    {
      "cell_type": "code",
      "source": [
        "# top 3 kernel performers 1 = Linear, 8 = RBF\n",
        "svm_test_results = test_results\n",
        "svm_test_results[0] = ('Linear', test_results[0][1])\n",
        "svm_test_results[7] = ('RBF', test_results[7][1])\n",
        "\n",
        "sorted(svm_test_results, key=lambda x: x[1])[:3]"
      ],
      "metadata": {
        "id": "nOb_wjgz7n7m",
        "colab": {
          "base_uri": "https://localhost:8080/"
        },
        "outputId": "41bf1501-7b0b-4a56-c3ee-1babca397233"
      },
      "execution_count": 22,
      "outputs": [
        {
          "output_type": "execute_result",
          "data": {
            "text/plain": [
              "[('Linear', 0.23376623376623373),\n",
              " (3, 0.2532467532467533),\n",
              " ('RBF', 0.26623376623376627)]"
            ]
          },
          "metadata": {},
          "execution_count": 22
        }
      ]
    },
    {
      "cell_type": "code",
      "source": [],
      "metadata": {
        "id": "YqOVBcK57_pr"
      },
      "execution_count": 11,
      "outputs": []
    },
    {
      "cell_type": "code",
      "source": [
        "#NN\n",
        "\n",
        "import torch\n",
        "import torch.nn as nn\n",
        "import torch.optim as optim\n",
        "from sklearn.model_selection import train_test_split\n",
        "from sklearn.preprocessing import StandardScaler\n",
        "import pandas as pd\n",
        "import numpy as np\n",
        "\n",
        "# Convert data to PyTorch tensors\n",
        "X_train_tensor = torch.tensor(X_train_scaled, dtype=torch.float32)\n",
        "y_train_tensor = torch.tensor(y_train.values, dtype=torch.float32).unsqueeze(1)\n",
        "X_test_tensor = torch.tensor(X_test_scaled, dtype=torch.float32)\n",
        "y_test_tensor = torch.tensor(y_test.values, dtype=torch.float32).unsqueeze(1)\n",
        "\n",
        "# 2 Hidden Layers, Input->32->16 Neurons, ReLu Hidden Activation, Sigmoid Output Activation\n",
        "class NN(nn.Module):\n",
        "    def __init__(self, input_size):\n",
        "        super(NN, self).__init__()\n",
        "        self.fc1 = nn.Linear(input_size, 32)\n",
        "        self.fc2 = nn.Linear(32, 16)\n",
        "        self.fc3 = nn.Linear(16, 1)\n",
        "        self.relu = nn.ReLU()\n",
        "        self.dropout = nn.Dropout(0.5)\n",
        "        self.sigmoid = nn.Sigmoid()\n",
        "\n",
        "    def forward(self, x):\n",
        "        x = self.relu(self.fc1(x))\n",
        "        x = self.relu(self.fc2(x))\n",
        "        x = self.dropout(x)\n",
        "        x = self.sigmoid(self.fc3(x))\n",
        "        return x\n",
        "\n",
        "device = torch.device('cuda' if torch.cuda.is_available() else 'cpu')\n",
        "\n",
        "model = NN(input_size = X_train_tensor.shape[1]).to(device)\n",
        "criterion = nn.BCELoss()\n",
        "optimizer = optim.Adam(model.parameters(), lr=0.001)\n",
        "\n",
        "X_train_tensor = X_train_tensor.to(device)\n",
        "y_train_tensor = y_train_tensor.to(device)\n",
        "X_test_tensor = X_test_tensor.to(device)\n",
        "y_test_tensor = y_test_tensor.to(device)\n",
        "\n",
        "test_losses = []\n",
        "train_losses = []\n",
        "\n",
        "epochs = 1000\n",
        "for epoch in range(epochs):\n",
        "    model.train()\n",
        "\n",
        "    y_pred = model(X_train_tensor)\n",
        "    loss = criterion(y_pred, y_train_tensor)\n",
        "\n",
        "    optimizer.zero_grad()\n",
        "    loss.backward()\n",
        "    optimizer.step()\n",
        "\n",
        "    model.eval()\n",
        "    with torch.no_grad():\n",
        "        y_pred_test = model(X_test_tensor)\n",
        "        test_loss = criterion(y_pred_test, y_test_tensor).item()\n",
        "\n",
        "    if (epoch) % 500 == 0:\n",
        "        print(f'Epoch {epoch}/{epochs}, BCE Train Loss: {loss.item():.4f}, BCE Test Loss: {test_loss:.4f}')\n",
        "    if (epoch) % 10 == 0:\n",
        "        train_losses.append((epoch, loss.item()))\n",
        "        test_losses.append((epoch, test_loss))"
      ],
      "metadata": {
        "id": "BCMCsaTQ8slg",
        "colab": {
          "base_uri": "https://localhost:8080/"
        },
        "outputId": "1cdf2eda-58c3-474c-efaa-7b7e9ae1c049"
      },
      "execution_count": 27,
      "outputs": [
        {
          "output_type": "stream",
          "name": "stdout",
          "text": [
            "Epoch 0/1000, BCE Train Loss: 0.7200, BCE Test Loss: 0.7111\n",
            "Epoch 500/1000, BCE Train Loss: 0.3850, BCE Test Loss: 0.5763\n"
          ]
        }
      ]
    },
    {
      "cell_type": "code",
      "source": [
        "import matplotlib.pyplot as plt\n",
        "\n",
        "# Extract epoch and loss values from test_losses\n",
        "epochs_test = [loss[0] for loss in test_losses]\n",
        "losses_test = [loss[1] for loss in test_losses]\n",
        "\n",
        "# Extract epoch and loss values from train_losses\n",
        "epochs_train = [loss[0] for loss in test_losses]\n",
        "losses_train = [loss[1] for loss in train_losses]\n",
        "\n",
        "# Plot test loss vs epoch\n",
        "plt.plot(epochs_test, losses_test, label='Test Loss')\n",
        "\n",
        "# Plot train loss vs epoch\n",
        "plt.plot(epochs_train, losses_train, label='Train Loss')\n",
        "\n",
        "\n",
        "plt.xlabel('Epoch Iteration')\n",
        "plt.ylabel('BCE Loss')\n",
        "plt.title('Diabetes: Train Test Loss vs Epoch (BCE Loss)')\n",
        "plt.legend()\n",
        "plt.show()\n"
      ],
      "metadata": {
        "id": "-IRa3xnf9W66",
        "colab": {
          "base_uri": "https://localhost:8080/",
          "height": 472
        },
        "outputId": "90490530-bf10-4253-d1b0-366e48f9b5ea"
      },
      "execution_count": 34,
      "outputs": [
        {
          "output_type": "display_data",
          "data": {
            "text/plain": [
              "<Figure size 640x480 with 1 Axes>"
            ],
            "image/png": "[encoded data removed]"
          },
          "metadata": {}
        }
      ]
    },
    {
      "cell_type": "code",
      "source": [
        "optimal_epoch = sorted(test_losses, key=lambda x: x[1])[0]\n",
        "\n",
        "optimal_epoch"
      ],
      "metadata": {
        "id": "VH1C4X1B9f1Z",
        "colab": {
          "base_uri": "https://localhost:8080/"
        },
        "outputId": "652ea3cc-8c3f-443a-d1dc-375757183670"
      },
      "execution_count": 35,
      "outputs": [
        {
          "output_type": "execute_result",
          "data": {
            "text/plain": [
              "(110, 0.49402889609336853)"
            ]
          },
          "metadata": {},
          "execution_count": 35
        }
      ]
    },
    {
      "cell_type": "code",
      "source": [
        "epochs = optimal_epoch[0]\n",
        "\n",
        "device = torch.device('cuda' if torch.cuda.is_available() else 'cpu')\n",
        "model = NN(input_size = X_train_tensor.shape[1]).to(device)\n",
        "criterion = nn.BCELoss()\n",
        "optimizer = optim.Adam(model.parameters(), lr=0.001)\n",
        "\n",
        "for epoch in range(epochs):\n",
        "    model.train()\n",
        "\n",
        "    y_pred = model(X_train_tensor)\n",
        "    loss = criterion(y_pred, y_train_tensor)\n",
        "\n",
        "    optimizer.zero_grad()\n",
        "    loss.backward()\n",
        "    optimizer.step()\n",
        "\n",
        "    model.eval()\n",
        "    with torch.no_grad():\n",
        "        y_pred_test = model(X_test_tensor)\n",
        "        test_loss = criterion(y_pred_test, y_test_tensor).item()\n",
        "        if (epoch) == epochs - 1:\n",
        "            print(f'Epoch {epoch + 1}, BCE Train Loss: {loss.item():.4f}, BCE Test Loss: {test_loss:.4f}')\n",
        "\n",
        "\n",
        "# Final evaluation on test set\n",
        "model.eval()\n",
        "with torch.no_grad():\n",
        "    y_pred_test = model(X_test_tensor)\n",
        "    y_pred_test_class = (y_pred_test > 0.5).float()\n",
        "    loss = 1-(y_pred_test_class.eq(y_test_tensor).sum() / float(y_test_tensor.shape[0])).item()\n",
        "    print(f'Epoch @ {epochs} Classification Loss: {loss}')"
      ],
      "metadata": {
        "id": "AMh2y-27-Bs_",
        "colab": {
          "base_uri": "https://localhost:8080/"
        },
        "outputId": "57d1dba7-3b9b-4fa4-efcf-2743a325e3be"
      },
      "execution_count": 36,
      "outputs": [
        {
          "output_type": "stream",
          "name": "stdout",
          "text": [
            "Epoch 110, BCE Train Loss: 0.4858, BCE Test Loss: 0.5040\n",
            "Epoch @ 110 Classification Loss: 0.2142857313156128\n"
          ]
        }
      ]
    }
  ]
}